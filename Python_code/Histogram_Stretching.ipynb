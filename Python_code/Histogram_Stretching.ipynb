{
 "cells": [
  {
   "cell_type": "code",
   "execution_count": 1,
   "metadata": {},
   "outputs": [
    {
     "name": "stdout",
     "output_type": "stream",
     "text": [
      "Image Matrix is :\n",
      "[[1 3 5]\n",
      " [4 4 3]\n",
      " [5 2 2]]\n",
      "\n",
      "Gray Levels   :  [0 1 2 3 4 5 6 7]\n",
      "No. of Pixels :  [0 1 2 2 2 2 0 0]\n",
      "\n",
      "Smax =  7 , Smin =  0\n",
      "rmax =  5 , rmin =  1\n",
      "\n",
      "Histogram Stretched Matrix :  [0, 0, 2, 4, 5, 7, 7, 7]\n",
      "\n",
      "Output Image Matix is :\n",
      " [[0 4 7]\n",
      " [5 5 4]\n",
      " [7 2 2]]\n"
     ]
    }
   ],
   "source": [
    "import numpy as np\n",
    "import math\n",
    "\n",
    "# Input Image Matrix - 3x3 Matrix\n",
    "image_matrix = np.array([[1,3,5], [4,4,3], [5,2,2]])\n",
    "print('Image Matrix is :')\n",
    "print(image_matrix)\n",
    "\n",
    "length = list(image_matrix.shape)[0]\n",
    "height = list(image_matrix.shape)[1]\n",
    "\n",
    "# Gray Level Matrix\n",
    "gray_level  = np.array([0,1,2,3,4,5,6,7])\n",
    "\n",
    "# Counting Number of Pixels for each Gray Level\n",
    "no_of_pixels = np.array([0,0,0,0,0,0,0,0])\n",
    "\n",
    "for i in range(8):\n",
    "    no_of_pixels[i] = (image_matrix == i).sum()\n",
    "\n",
    "print('\\nGray Levels   : ',gray_level)\n",
    "print('No. of Pixels : ',no_of_pixels)\n",
    "\n",
    "\n",
    "# Computing Smax, Smin, rmax, rmin\n",
    "# Smax = Maximum pixel value in histogram stretched image\n",
    "# Smin = Minimum pixel value in histogram stretched image\n",
    "# rmax = Maximum gray level value in original image\n",
    "# rmin = Minmum gray level value in original image\n",
    "\n",
    "Smax = max(gray_level)\n",
    "Smin = min(gray_level)\n",
    "\n",
    "# Computing rmax\n",
    "rmax = 0\n",
    "for j in range(Smax, 0, -1):\n",
    "    if (no_of_pixels[j] != 0):\n",
    "        rmax = j\n",
    "        break\n",
    "\n",
    "# Computing rmin        \n",
    "rmin = 0\n",
    "for k in range(0, Smax + 1, 1):\n",
    "    if (no_of_pixels[k] != 0):\n",
    "        rmin = k\n",
    "        break\n",
    "\n",
    "# Printing Smax, Smin, rmax, rmin\n",
    "print('\\nSmax = ',Smax,', Smin = ',Smin)\n",
    "print('rmax = ',rmax,', rmin = ',rmin)\n",
    "\n",
    "# Computing Histogram Stretched Matrix \n",
    "S = 0\n",
    "histogram_strected_mat = []\n",
    "for l in range(Smax + 1):\n",
    "    if ((gray_level[l] >= rmin) and (gray_level[l] <= rmax)):\n",
    "        r = gray_level[l]\n",
    "        S = int(round(((Smax - Smin)/(rmax - rmin))*(r - rmin) + Smin))\n",
    "        histogram_strected_mat.append(S)\n",
    "    elif (gray_level[l] < rmin):\n",
    "        S = Smin\n",
    "        histogram_strected_mat.append(S)\n",
    "    else:\n",
    "        S = Smax\n",
    "        histogram_strected_mat.append(S)\n",
    "\n",
    "# Printing Histogram Stretched Matrix       \n",
    "print('\\nHistogram Stretched Matrix : ',histogram_strected_mat)\n",
    "\n",
    "\n",
    "# Output Image Matrix - 3x3 Matrix\n",
    "\n",
    "0# Computing Output Image Matrix\n",
    "output_image_matrix = np.array([[0,0,0], [0,0,0], [0,0,0]])\n",
    "for m in range(length ):\n",
    "    for n in range(height):\n",
    "        a = image_matrix[m, n]\n",
    "        b = list(gray_level).index(a)\n",
    "        output_image_matrix[m, n] = histogram_strected_mat[b]\n",
    "\n",
    "# Printing Output Image Matrix    \n",
    "print('\\nOutput Image Matix is :\\n',output_image_matrix)"
   ]
  },
  {
   "cell_type": "code",
   "execution_count": 2,
   "metadata": {},
   "outputs": [
    {
     "name": "stdout",
     "output_type": "stream",
     "text": [
      "Image Matrix is :\n",
      "[[1 3 5]\n",
      " [4 4 3]\n",
      " [5 2 2]]\n",
      "\n",
      "Output Image Matix is :\n",
      " [[0 4 7]\n",
      " [5 5 4]\n",
      " [7 2 2]]\n"
     ]
    }
   ],
   "source": [
    "\n",
    "# Input Image Matrix - 3x3 Matrix\n",
    "image_matrix = np.array([[1,3,5], [4,4,3], [5,2,2]])\n",
    "print('Image Matrix is :')\n",
    "print(image_matrix)\n",
    "\n",
    "# Output Image Matrix - 3x3 Matrix\n",
    "print('\\nOutput Image Matix is :\\n',output_image_matrix)"
   ]
  },
  {
   "cell_type": "code",
   "execution_count": null,
   "metadata": {},
   "outputs": [],
   "source": []
  }
 ],
 "metadata": {
  "kernelspec": {
   "display_name": "Python 3",
   "language": "python",
   "name": "python3"
  },
  "language_info": {
   "codemirror_mode": {
    "name": "ipython",
    "version": 3
   },
   "file_extension": ".py",
   "mimetype": "text/x-python",
   "name": "python",
   "nbconvert_exporter": "python",
   "pygments_lexer": "ipython3",
   "version": "3.7.4"
  }
 },
 "nbformat": 4,
 "nbformat_minor": 2
}
