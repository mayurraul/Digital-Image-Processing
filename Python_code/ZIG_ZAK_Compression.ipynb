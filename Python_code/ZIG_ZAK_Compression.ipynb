{
 "cells": [
  {
   "cell_type": "markdown",
   "metadata": {},
   "source": [
    "# ZIG ZAK Compression##"
   ]
  },
  {
   "cell_type": "code",
   "execution_count": 3,
   "metadata": {},
   "outputs": [
    {
     "name": "stdout",
     "output_type": "stream",
     "text": [
      "[[ 1  2  6  7]\n",
      " [ 3  5  8 13]\n",
      " [ 4  9 12 14]\n",
      " [10 11 15 16]]\n",
      "shape =  (4, 4)\n"
     ]
    }
   ],
   "source": [
    "#ZIG ZAK Compression\n",
    "#Created By- Mayur Raul\n",
    "#enrollment Number- BT17ECE067\n",
    "\n",
    "import numpy as np\n",
    "\n",
    "image = np.array([[1,2,6,7], [3,5,8,13], [4,9,12,14], [10,11,15,16]])\n",
    "print(image)\n",
    "\n",
    "print(\"shape = \",np.shape(image))\n",
    "[rows,columns]=np.shape(image) "
   ]
  },
  {
   "cell_type": "code",
   "execution_count": 4,
   "metadata": {},
   "outputs": [
    {
     "name": "stdout",
     "output_type": "stream",
     "text": [
      "1 2 3 4 5 6 7 8 9 10 11 12 13 14 15 16 "
     ]
    }
   ],
   "source": [
    "zig_zak=[]\n",
    "\n",
    "solution=[[] for i in range(rows+columns-1)] \n",
    "for i in range(rows): \n",
    "    for j in range(columns): \n",
    "        sum=i+j \n",
    "        if(sum%2 ==0): \n",
    "   \n",
    "            solution[sum].insert(0,image[i][j]) \n",
    "        else: \n",
    "  \n",
    "            solution[sum].append(image[i][j]) \n",
    "          \n",
    "for i in solution: \n",
    "    for j in i: \n",
    "        print(j,end=\" \")"
   ]
  }
 ],
 "metadata": {
  "kernelspec": {
   "display_name": "Python 3",
   "language": "python",
   "name": "python3"
  },
  "language_info": {
   "codemirror_mode": {
    "name": "ipython",
    "version": 3
   },
   "file_extension": ".py",
   "mimetype": "text/x-python",
   "name": "python",
   "nbconvert_exporter": "python",
   "pygments_lexer": "ipython3",
   "version": "3.7.4"
  }
 },
 "nbformat": 4,
 "nbformat_minor": 2
}
