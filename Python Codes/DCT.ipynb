{
 "cells": [
  {
   "cell_type": "markdown",
   "metadata": {},
   "source": [
    "## Dct coeffiecient of the sequence##"
   ]
  },
  {
   "cell_type": "code",
   "execution_count": 8,
   "metadata": {},
   "outputs": [
    {
     "data": {
      "text/plain": [
       "array([[ 0.,  1.,  2.,  3.],\n",
       "       [ 4.,  5.,  6.,  7.],\n",
       "       [ 8.,  9., 10., 11.],\n",
       "       [12., 13., 14., 15.]])"
      ]
     },
     "execution_count": 8,
     "metadata": {},
     "output_type": "execute_result"
    }
   ],
   "source": [
    "#Discreate Cosine Transform\n",
    "#Created By- Mayur Raul\n",
    "#enrollment Number- BT17ECE067\n",
    "\n",
    "import numpy as np\n",
    "import scipy.fftpack as sft\n",
    "F=np.arange(16)*1.0\n",
    "F=np.reshape(F,(-1,4))\n",
    "\n",
    "#Original Matrix:\n",
    "F"
   ]
  },
  {
   "cell_type": "code",
   "execution_count": 9,
   "metadata": {},
   "outputs": [
    {
     "data": {
      "text/plain": [
       "array([[ 0.,  1.],\n",
       "       [ 2.,  3.],\n",
       "       [ 4.,  5.],\n",
       "       [ 6.,  7.],\n",
       "       [ 8.,  9.],\n",
       "       [10., 11.],\n",
       "       [12., 13.],\n",
       "       [14., 15.]])"
      ]
     },
     "execution_count": 9,
     "metadata": {},
     "output_type": "execute_result"
    }
   ],
   "source": [
    "\n",
    "F=np.reshape(F,(-1,2))\n",
    "\n",
    "F \n"
   ]
  },
  {
   "cell_type": "code",
   "execution_count": 10,
   "metadata": {},
   "outputs": [
    {
     "data": {
      "text/plain": [
       "array([[ 0.70710678, -0.70710678],\n",
       "       [ 3.53553391, -0.70710678],\n",
       "       [ 6.36396103, -0.70710678],\n",
       "       [ 9.19238816, -0.70710678],\n",
       "       [12.02081528, -0.70710678],\n",
       "       [14.8492424 , -0.70710678],\n",
       "       [17.67766953, -0.70710678],\n",
       "       [20.50609665, -0.70710678]])"
      ]
     },
     "execution_count": 10,
     "metadata": {},
     "output_type": "execute_result"
    }
   ],
   "source": [
    "Y=sft.dct(F,axis=1,norm='ortho')\n",
    "Y "
   ]
  },
  {
   "cell_type": "code",
   "execution_count": 12,
   "metadata": {},
   "outputs": [
    {
     "data": {
      "text/plain": [
       "array([[ 0.70710678,  0.        ],\n",
       "       [ 3.53553391,  0.        ],\n",
       "       [ 6.36396103,  0.        ],\n",
       "       [ 9.19238816,  0.        ],\n",
       "       [12.02081528,  0.        ],\n",
       "       [14.8492424 ,  0.        ],\n",
       "       [17.67766953,  0.        ],\n",
       "       [20.50609665,  0.        ]])"
      ]
     },
     "execution_count": 12,
     "metadata": {},
     "output_type": "execute_result"
    }
   ],
   "source": [
    "Mr=np.array([1,0])\n",
    "Y=np.dot(Y,np.diag(Mr))\n",
    "Y \n"
   ]
  },
  {
   "cell_type": "code",
   "execution_count": 13,
   "metadata": {},
   "outputs": [
    {
     "data": {
      "text/plain": [
       "array([[ 0.70710678,  0.        ,  3.53553391,  0.        ],\n",
       "       [ 6.36396103,  0.        ,  9.19238816,  0.        ],\n",
       "       [12.02081528,  0.        , 14.8492424 ,  0.        ],\n",
       "       [17.67766953,  0.        , 20.50609665,  0.        ]])"
      ]
     },
     "execution_count": 13,
     "metadata": {},
     "output_type": "execute_result"
    }
   ],
   "source": [
    "Y=np.reshape(Y,(-1,4)) \n",
    "Y"
   ]
  },
  {
   "cell_type": "code",
   "execution_count": 14,
   "metadata": {},
   "outputs": [
    {
     "data": {
      "text/plain": [
       "array([[ 5.,  0.,  9.,  0.],\n",
       "       [ 0.,  0.,  0.,  0.],\n",
       "       [21.,  0., 25.,  0.],\n",
       "       [ 0.,  0.,  0.,  0.]])"
      ]
     },
     "execution_count": 14,
     "metadata": {},
     "output_type": "execute_result"
    }
   ],
   "source": [
    "Y=Y.T\n",
    "Y=np.reshape(Y,(-1,2))\n",
    "Y=sft.dct(Y,axis=1,norm='ortho')\n",
    "Mc=np.array([1,0])\n",
    "Y=np.dot(Y,np.diag(Mc))\n",
    "Y=np.reshape(Y,(-1,4))\n",
    "Y=Y.T\n",
    "Y"
   ]
  },
  {
   "cell_type": "code",
   "execution_count": null,
   "metadata": {},
   "outputs": [],
   "source": []
  }
 ],
 "metadata": {
  "kernelspec": {
   "display_name": "Python 3",
   "language": "python",
   "name": "python3"
  },
  "language_info": {
   "codemirror_mode": {
    "name": "ipython",
    "version": 3
   },
   "file_extension": ".py",
   "mimetype": "text/x-python",
   "name": "python",
   "nbconvert_exporter": "python",
   "pygments_lexer": "ipython3",
   "version": "3.7.4"
  }
 },
 "nbformat": 4,
 "nbformat_minor": 2
}
