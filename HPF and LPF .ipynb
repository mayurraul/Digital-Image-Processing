{
 "cells": [
  {
   "cell_type": "markdown",
   "metadata": {},
   "source": [
    "## High pass Filter on Image##"
   ]
  },
  {
   "cell_type": "code",
   "execution_count": 16,
   "metadata": {},
   "outputs": [
    {
     "name": "stdout",
     "output_type": "stream",
     "text": [
      "\n",
      "Kernel :\n",
      " [[-0.04 -0.04 -0.04 -0.04 -0.04]\n",
      " [-0.04 -0.04 -0.04 -0.04 -0.04]\n",
      " [-0.04 -0.04  0.96 -0.04 -0.04]\n",
      " [-0.04 -0.04 -0.04 -0.04 -0.04]\n",
      " [-0.04 -0.04 -0.04 -0.04 -0.04]]\n",
      "\n",
      "Size of Gray Scale Image :  (512, 512)\n",
      "Size of Image after Convolution :  (516, 516)\n"
     ]
    }
   ],
   "source": [
    "#High pass Filter on Image\n",
    "#Created By- Mayur Raul\n",
    "#enrollment Number- BT17ECE067\n",
    "\n",
    "import numpy as np\n",
    "import matplotlib.pyplot as plt\n",
    "from scipy import signal\n",
    "import cv2\n",
    " \n",
    "original_image = cv2.imread('H:\\\\MATLAB 2019b\\\\MATLAB_ALL_Programs\\\\DIP Programs\\\\Lenna_test_image.png')\n",
    "\n",
    "# Converting Original Image to Gray Scale Image\n",
    "gray_image = cv2.cvtColor(original_image,cv2.COLOR_BGR2GRAY)\n",
    "\n",
    "# Defining Kernel to be used for convolution \n",
    "# We choose a 5x5 matrix with each element value 1/(5x5) = -1/25 and middle element value 24/25 \n",
    "kernel = (np.array([[-1,-1,-1,-1,-1], [-1,-1,-1,-1,-1], [-1,-1,24,-1,-1], [-1,-1,-1,-1,-1], [-1,-1,-1,-1,-1]]))/25\n",
    "print('\\nKernel :\\n',kernel)\n",
    "\n",
    "# Convolution of Image and the Kernel\n",
    "hpf = signal.convolve2d(gray_image,kernel)\n",
    "\n",
    "# Converting values obtained after convolution to integer values\n",
    "hpf = np.array(hpf,dtype = np.uint8)\n",
    "\n",
    "# Printing Size of original image and image after convolution\n",
    "print('\\nSize of Gray Scale Image : ',gray_image.shape)\n",
    "print('Size of Image after Convolution : ',hpf.shape)\n",
    "\n",
    "# Saving High pass filtered image which is result of convolution\n",
    "cv2.imwrite('hpf.png', hpf)\n",
    "# Displaying HPF Image\n",
    "cv2.imshow(\"hpf\", hpf);\n",
    "\n",
    "# Displaying Gray Scale Image\n",
    "cv2.imwrite('gray_image.png',gray_image)\n",
    "cv2.imshow('gray_image',gray_image)\n",
    "cv2.waitKey();"
   ]
  },
  {
   "cell_type": "markdown",
   "metadata": {},
   "source": [
    "## Low Pass Filter On Image##"
   ]
  },
  {
   "cell_type": "code",
   "execution_count": 17,
   "metadata": {},
   "outputs": [
    {
     "name": "stdout",
     "output_type": "stream",
     "text": [
      "\n",
      "Kernel :\n",
      " [[0.04 0.04 0.04 0.04 0.04]\n",
      " [0.04 0.04 0.04 0.04 0.04]\n",
      " [0.04 0.04 0.04 0.04 0.04]\n",
      " [0.04 0.04 0.04 0.04 0.04]\n",
      " [0.04 0.04 0.04 0.04 0.04]]\n",
      "\n",
      "Size of Gray Scale Image :  (512, 512)\n",
      "Size of Image after Convolution :  (516, 516)\n"
     ]
    }
   ],
   "source": [
    "#Low Pass Filter On Image\n",
    "#Created By- Mayur Raul\n",
    "#enrollment Number- BT17ECE067\n",
    "\n",
    "import numpy as np\n",
    "import matplotlib.pyplot as plt\n",
    "from scipy import signal\n",
    "import cv2\n",
    " \n",
    "original_image = cv2.imread('H:\\\\MATLAB 2019b\\\\MATLAB_ALL_Programs\\\\DIP Programs\\\\Lenna_test_image.png')\n",
    "\n",
    "# Converting Original Image to Gray Scale Image\n",
    "gray_image = cv2.cvtColor(original_image,cv2.COLOR_BGR2GRAY)\n",
    "\n",
    "# Defining Kernel to be used for convolution \n",
    "# We choose a 5x5 matrix with each element value 1/(5x5) = -1/25 and middle element value 24/25 \n",
    "kernel = (np.array([[1,1,1,1,1], [1,1,1,1,1], [1,1,1,1,1], [1,1,1,1,1], [1,1,1,1,1]]))/25\n",
    "print('\\nKernel :\\n',kernel)\n",
    "\n",
    "# Convolution of Image and the Kernel\n",
    "lpf = signal.convolve2d(gray_image,kernel)\n",
    "\n",
    "# Converting values obtained after convolution to integer values\n",
    "lpf = np.array(lpf,dtype = np.uint8)\n",
    "\n",
    "# Printing Size of original image and image after convolution\n",
    "print('\\nSize of Gray Scale Image : ',gray_image.shape)\n",
    "print('Size of Image after Convolution : ',lpf.shape)\n",
    "\n",
    "# Saving Low pass filtered image which is result of convolution\n",
    "cv2.imwrite('lpf.png', hpf)\n",
    "# Displaying LPF Image\n",
    "cv2.imshow(\"lpf\", lpf);\n",
    "\n",
    "# Displaying Gray Scale Image\n",
    "cv2.imwrite('gray_image.png',gray_image)\n",
    "cv2.imshow('gray_image',gray_image)\n",
    "cv2.waitKey();"
   ]
  },
  {
   "cell_type": "code",
   "execution_count": null,
   "metadata": {},
   "outputs": [],
   "source": [
    "#Dct coeffiecient of the sequence"
   ]
  }
 ],
 "metadata": {
  "kernelspec": {
   "display_name": "Python 3",
   "language": "python",
   "name": "python3"
  },
  "language_info": {
   "codemirror_mode": {
    "name": "ipython",
    "version": 3
   },
   "file_extension": ".py",
   "mimetype": "text/x-python",
   "name": "python",
   "nbconvert_exporter": "python",
   "pygments_lexer": "ipython3",
   "version": "3.7.4"
  }
 },
 "nbformat": 4,
 "nbformat_minor": 2
}
