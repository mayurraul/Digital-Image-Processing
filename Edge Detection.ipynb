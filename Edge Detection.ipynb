{
 "cells": [
  {
   "cell_type": "markdown",
   "metadata": {},
   "source": [
    "## Canny Edge Detection ##"
   ]
  },
  {
   "cell_type": "code",
   "execution_count": null,
   "metadata": {},
   "outputs": [],
   "source": [
    "import numpy as np\n",
    "import cv2 \n",
    "from matplotlib import pyplot as plt\n",
    "\n",
    "# Reading Original Image \n",
    "original_image = cv2.imread('Lenna.png')\n",
    "\n",
    "# Converting Original Image to Gray Scale Image\n",
    "gray_image = cv2.cvtColor(original_image,cv2.COLOR_BGR2GRAY)\n",
    "\n",
    "# Canny Edge Detection\n",
    "canny_edge = cv2.Canny(gray_image, 100, 200)\n",
    "\n",
    "# Plotting Original Gray Scale Image\n",
    "plt.subplot(121)\n",
    "plt.imshow(gray_image, cmap = 'gray')\n",
    "plt.title('Original Image'), plt.xticks([]), plt.yticks([])\n",
    "\n",
    "# Plotting Image after Canny Edge Detection\n",
    "plt.subplot(122)\n",
    "plt.imshow(canny_edge, cmap = 'gray')\n",
    "plt.title('Image after Canny Edge Detection'), plt.xticks([]), plt.yticks([])\n",
    "plt.show()"
   ]
  },
  {
   "cell_type": "markdown",
   "metadata": {},
   "source": [
    "## Sobel Edge Detection ##"
   ]
  },
  {
   "cell_type": "code",
   "execution_count": null,
   "metadata": {},
   "outputs": [],
   "source": [
    "import cv2\n",
    "import numpy as np\n",
    "from matplotlib import pyplot as plt\n",
    "\n",
    "# Reading Original Image \n",
    "original_image = cv2.imread('Lenna.png')\n",
    "\n",
    "# Converting Original Image to Gray Scale Image\n",
    "gray_image = cv2.cvtColor(original_image, cv2.COLOR_BGR2GRAY)\n",
    "\n",
    "# Sobel Edge Detection\n",
    "sobelx = cv2.Sobel(gray_image, cv2.CV_64F,1,0,ksize=5)\n",
    "sobely = cv2.Sobel(gray_image, cv2.CV_64F,0,1,ksize=5)\n",
    "\n",
    "# Plotting Original Image\n",
    "plt.subplot(2,2,1)\n",
    "plt.imshow(gray_image, cmap = 'gray')\n",
    "plt.title('Original'), plt.xticks([]), plt.yticks([])\n",
    "\n",
    "# Plotting Sobel X\n",
    "plt.subplot(2,2,3)\n",
    "plt.imshow(sobelx,cmap = 'gray')\n",
    "plt.title('Sobel X'), plt.xticks([]), plt.yticks([])\n",
    "\n",
    "# Plotting Sobel Y\n",
    "plt.subplot(2,2,4)\n",
    "plt.imshow(sobely,cmap = 'gray')\n",
    "plt.title('Sobel Y'), plt.xticks([]), plt.yticks([])\n",
    "\n",
    "plt.show()\n"
   ]
  },
  {
   "cell_type": "code",
   "execution_count": null,
   "metadata": {},
   "outputs": [],
   "source": []
  }
 ],
 "metadata": {
  "kernelspec": {
   "display_name": "Python 3",
   "language": "python",
   "name": "python3"
  },
  "language_info": {
   "codemirror_mode": {
    "name": "ipython",
    "version": 3
   },
   "file_extension": ".py",
   "mimetype": "text/x-python",
   "name": "python",
   "nbconvert_exporter": "python",
   "pygments_lexer": "ipython3",
   "version": "3.7.4"
  }
 },
 "nbformat": 4,
 "nbformat_minor": 2
}
