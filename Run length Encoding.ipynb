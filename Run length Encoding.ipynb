{
 "cells": [
  {
   "cell_type": "markdown",
   "metadata": {},
   "source": [
    "# Run Length Encoding ##"
   ]
  },
  {
   "cell_type": "code",
   "execution_count": 13,
   "metadata": {},
   "outputs": [
    {
     "name": "stdout",
     "output_type": "stream",
     "text": [
      "Input String= BAAABBBAABBBBCCCC\n",
      "Encoded String= 1B3A3B2A4B4C\n",
      "Compression Ratio= 0.7058823529411765\n"
     ]
    }
   ],
   "source": [
    "input_string='BAAABBBAABBBBCCCC'\n",
    "def runlengthencoding(data):\n",
    "    encoding = ''\n",
    "    prev_char = ''\n",
    "    count = 1\n",
    "    if not data: return ''\n",
    "\n",
    "    for char in data:\n",
    "        if char != prev_char:\n",
    "            if prev_char:\n",
    "                encoding += str(count) + prev_char\n",
    "            count = 1\n",
    "            prev_char = char\n",
    "        else:\n",
    "            count += 1\n",
    "    else:\n",
    "        encoding += str(count) + prev_char\n",
    "        return encoding\n",
    "    \n",
    "encoded = runlengthencoding(input_string)\n",
    "print(\"Input String=\", input_string)\n",
    "print(\"Encoded String=\", encoded)\n",
    "\n",
    "len_input=len(input_string)\n",
    "len_encoded=len(encoded)\n",
    "\n",
    "\n",
    "compression_ratio=len_encoded/len_input\n",
    "print(\"Compression Ratio=\", compression_ratio)"
   ]
  },
  {
   "cell_type": "code",
   "execution_count": null,
   "metadata": {},
   "outputs": [],
   "source": []
  }
 ],
 "metadata": {
  "kernelspec": {
   "display_name": "Python 3",
   "language": "python",
   "name": "python3"
  },
  "language_info": {
   "codemirror_mode": {
    "name": "ipython",
    "version": 3
   },
   "file_extension": ".py",
   "mimetype": "text/x-python",
   "name": "python",
   "nbconvert_exporter": "python",
   "pygments_lexer": "ipython3",
   "version": "3.7.4"
  }
 },
 "nbformat": 4,
 "nbformat_minor": 2
}
